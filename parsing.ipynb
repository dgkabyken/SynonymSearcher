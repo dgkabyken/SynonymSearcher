{
 "cells": [
  {
   "cell_type": "code",
   "execution_count": 98,
   "metadata": {},
   "outputs": [],
   "source": [
    "import pandas as pd\n",
    "import numpy as np\n",
    "from bs4 import BeautifulSoup\n",
    "import requests\n",
    "\n",
    "def return_urls():\n",
    "    a = ord('А')\n",
    "    alphabet = [chr(i) for i in range(a,a+6)] + [chr(1025)] + [chr(i) for i in range(a+6,a+32)]\n",
    "    syn_dict = {}\n",
    "    for letter in alphabet: \n",
    "        url = 'https://synonymonline.ru/{}'.format(letter)\n",
    "        r = requests.get(url)\n",
    "        soup = BeautifulSoup(r.text)\n",
    "        \n",
    "        tables = soup.find_all('ul', {'class': 'list-unstyled words-list'})\n",
    "        urls = []\n",
    "        for item in tables:\n",
    "            res=item.find_all('a')\n",
    "            url = ['https://synonymonline.ru' + a.get('href') for a in res]\n",
    "            urls.extend(url)\n",
    "        syn_dict[letter] = urls\n",
    "    return syn_dict"
   ]
  },
  {
   "cell_type": "code",
   "execution_count": 99,
   "metadata": {},
   "outputs": [],
   "source": [
    "syn_dict = return_urls()"
   ]
  },
  {
   "cell_type": "code",
   "execution_count": null,
   "metadata": {},
   "outputs": [],
   "source": []
  }
 ],
 "metadata": {
  "kernelspec": {
   "display_name": "Python 3",
   "language": "python",
   "name": "python3"
  },
  "language_info": {
   "codemirror_mode": {
    "name": "ipython",
    "version": 3
   },
   "file_extension": ".py",
   "mimetype": "text/x-python",
   "name": "python",
   "nbconvert_exporter": "python",
   "pygments_lexer": "ipython3",
   "version": "3.7.6"
  }
 },
 "nbformat": 4,
 "nbformat_minor": 4
}
