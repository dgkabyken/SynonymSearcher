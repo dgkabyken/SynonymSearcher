{
 "cells": [
  {
   "cell_type": "code",
   "execution_count": 1,
   "metadata": {},
   "outputs": [
    {
     "ename": "ModuleNotFoundError",
     "evalue": "No module named 'psycopg2'",
     "output_type": "error",
     "traceback": [
      "\u001b[0;31m---------------------------------------------------------------------------\u001b[0m",
      "\u001b[0;31mModuleNotFoundError\u001b[0m                       Traceback (most recent call last)",
      "\u001b[0;32m<ipython-input-1-7eb990ec0779>\u001b[0m in \u001b[0;36m<module>\u001b[0;34m()\u001b[0m\n\u001b[1;32m      2\u001b[0m \u001b[0;32mimport\u001b[0m \u001b[0mnumpy\u001b[0m \u001b[0;32mas\u001b[0m \u001b[0mnp\u001b[0m\u001b[0;34m\u001b[0m\u001b[0m\n\u001b[1;32m      3\u001b[0m \u001b[0;32mimport\u001b[0m \u001b[0mre\u001b[0m\u001b[0;34m\u001b[0m\u001b[0m\n\u001b[0;32m----> 4\u001b[0;31m \u001b[0;32mimport\u001b[0m \u001b[0mpsycopg2\u001b[0m\u001b[0;34m\u001b[0m\u001b[0m\n\u001b[0m\u001b[1;32m      5\u001b[0m \u001b[0;32mfrom\u001b[0m \u001b[0mconfigparser\u001b[0m \u001b[0;32mimport\u001b[0m \u001b[0mConfigParser\u001b[0m\u001b[0;34m\u001b[0m\u001b[0m\n\u001b[1;32m      6\u001b[0m \u001b[0;32mfrom\u001b[0m \u001b[0mpymystem3\u001b[0m \u001b[0;32mimport\u001b[0m \u001b[0mMystem\u001b[0m\u001b[0;34m\u001b[0m\u001b[0m\n",
      "\u001b[0;31mModuleNotFoundError\u001b[0m: No module named 'psycopg2'"
     ]
    }
   ],
   "source": [
    "import pandas as pd\n",
    "import numpy as np\n",
    "import re\n",
    "import psycopg2\n",
    "from configparser import ConfigParser\n",
    "from pymystem3 import Mystem"
   ]
  },
  {
   "cell_type": "code",
   "execution_count": null,
   "metadata": {
    "collapsed": true
   },
   "outputs": [],
   "source": [
    "conn = psycopg2.connect(host = '35.228.159.171', database = 'postgres', user = 'postgres', password = 'zerde9mkr')\n",
    "cur = conn.cursor()"
   ]
  },
  {
   "cell_type": "code",
   "execution_count": null,
   "metadata": {
    "collapsed": true
   },
   "outputs": [],
   "source": [
    "def get_syn(word):\n",
    "    cur.execute(\"SELECT id FROM origin where word = '{}';\".format(word))\n",
    "    if cur.rowcount == 0:\n",
    "        return []\n",
    "    id_ = cur.fetchone()[0]\n",
    "    cur.execute(\"SELECT syn FROM synonym where id = '{}';\".format(id_))\n",
    "    rows = cur.fetchall()\n",
    "    synonyms = [syn[0] for syn in rows]\n",
    "    return synonyms"
   ]
  },
  {
   "cell_type": "code",
   "execution_count": 4,
   "metadata": {
    "collapsed": true
   },
   "outputs": [],
   "source": [
    "class color:\n",
    "   PURPLE = '\\033[95m'\n",
    "   CYAN = '\\033[96m'\n",
    "   DARKCYAN = '\\033[36m'\n",
    "   BLUE = '\\033[94m'\n",
    "   GREEN = '\\033[92m'\n",
    "   YELLOW = '\\033[93m'\n",
    "   RED = '\\033[91m'\n",
    "   BOLD = '\\033[1m'\n",
    "   UNDERLINE = '\\033[4m'\n",
    "   END = '\\033[0m'"
   ]
  },
  {
   "cell_type": "code",
   "execution_count": 5,
   "metadata": {
    "collapsed": true
   },
   "outputs": [],
   "source": [
    "f = open('test_text.txt', 'r', encoding='utf-8')\n",
    "text = f.readlines()[0]\n",
    "f.close()"
   ]
  },
  {
   "cell_type": "code",
   "execution_count": 44,
   "metadata": {
    "collapsed": true
   },
   "outputs": [],
   "source": [
    "def get_syn_pos(word, text):\n",
    "    list_text = [word for word in text.split(' ')]\n",
    "    \n",
    "    synonyms = get_syn(word)\n",
    "    synonyms.append(word)\n",
    "    t = ''\n",
    "    for syn in synonyms:\n",
    "        t += syn + ' '\n",
    "    tmp = ''.join(Mystem().lemmatize(t)).strip('\\n')[:-1]\n",
    "    synonyms = [i for i in tmp.split(' ')]\n",
    "    #print(synonyms)\n",
    "    \n",
    "    lemmas = Mystem().lemmatize(text)\n",
    "    inf_text = ''.join(lemmas).strip('\\n')\n",
    "    clean_inf_text = [re.sub(r'[.,!\"@#$%]', '', word) for word in inf_text.split(' ')]\n",
    "    result = ''\n",
    "    \n",
    "    for i, word in enumerate(clean_inf_text):\n",
    "        if word in synonyms:\n",
    "            result += color.BOLD + list_text[i] + color.END + ' '\n",
    "        else:\n",
    "            result += list_text[i] + ' '\n",
    "    return print(result)"
   ]
  },
  {
   "cell_type": "code",
   "execution_count": 46,
   "metadata": {},
   "outputs": [
    {
     "name": "stdout",
     "output_type": "stream",
     "text": [
      "По поводу смерти двух полицейских по вине пьяного водителя можно сказать следующее. До конца 2021 \u001b[1mгода\u001b[0m \u001b[1mв\u001b[0m Казахстане несколько десятков пьяных водителей абсолютно точно убьют ещё несколько десятков, а может быть и сотен казахстанских граждан. Большая часть из этих будущих убийц сегодня видят новость о вчерашней трагедии, понимают, что причиной стало пьянство, но \u001b[1mв\u001b[0m один из предстоящих 20 месяцев, выпив, они всё равно сядут за руль и поедут убивать. Часть из них убьёт людей безнаказанно, ведь за них \u001b[1mв\u001b[0m тайне заступятся высокопоставленные лицемеры, рассказывающие нам \u001b[1mна\u001b[0m совещаниях о патриотизме и справедливости. Другие будут лить крокодиловы слёзы \u001b[1mв\u001b[0m СИЗО, рассказывая о том, что они \u001b[1m\"на\u001b[0m самом деле \u001b[1mне\u001b[0m хотели\". Но горькая правда жизни \u001b[1mв\u001b[0m том, что они да, хотели. Сегодня они видят новость о гибели полицейских, понимают, что всему виной пьяное вождение, и \u001b[1mв\u001b[0m какой-то из будущих дней они сядут за руль отнимать чьи-то жизни. \n"
     ]
    }
   ],
   "source": [
    "get_syn_pos('молодой', text)"
   ]
  },
  {
   "cell_type": "code",
   "execution_count": null,
   "metadata": {
    "collapsed": true
   },
   "outputs": [],
   "source": []
  }
 ],
 "metadata": {
  "kernelspec": {
   "display_name": "Python 3",
   "language": "python",
   "name": "python3"
  },
  "language_info": {
   "codemirror_mode": {
    "name": "ipython",
    "version": 3
   },
   "file_extension": ".py",
   "mimetype": "text/x-python",
   "name": "python",
   "nbconvert_exporter": "python",
   "pygments_lexer": "ipython3",
   "version": "3.6.3"
  }
 },
 "nbformat": 4,
 "nbformat_minor": 2
}
